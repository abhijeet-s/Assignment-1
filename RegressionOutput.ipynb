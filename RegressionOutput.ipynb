{
 "cells": [
  {
   "cell_type": "code",
   "execution_count": 2,
   "metadata": {
    "collapsed": true
   },
   "outputs": [],
   "source": [
    "import numpy as np\n",
    "import sklearn\n",
    "from sklearn import datasets\n",
    "import pandas as pd\n",
    "energy=pd.read_csv('SampleFormat.csv') \n",
    "Y= energy.ix[:, ['kWh']].copy()\n",
    "X = energy.ix[: ,['Month','Day','DayOfWeek','Weekday','PeakHour','temp']].copy()\n",
    "account = energy.ix[:, ['Account']].copy()\n",
    "accountNum = account[\"Account\"][0]\n",
    "from sklearn import linear_model\n",
    "lm=linear_model.LinearRegression()\n",
    "lm.fit (X,Y)\n",
    "dftegf = pd.DataFrame(list(zip(X.columns,lm.coef_[0])), columns = ['features','estimatedCoefficients'])\n",
    "dftegy = pd.DataFrame([['AccountNumber', accountNum],['Intercept', lm.intercept_[0]]], \n",
    "                      columns=['features','estimatedCoefficients'])\n",
    "dfrtd = dftegf.append(dftegy)\n",
    "dfrtd.to_csv('C:/Users/Abhijeet/Desktop/WT/RegressionOutputs.csv',index=False)"
   ]
  },
  {
   "cell_type": "code",
   "execution_count": null,
   "metadata": {
    "collapsed": true
   },
   "outputs": [],
   "source": []
  }
 ],
 "metadata": {
  "kernelspec": {
   "display_name": "Python 3",
   "language": "python",
   "name": "python3"
  },
  "language_info": {
   "codemirror_mode": {
    "name": "ipython",
    "version": 3
   },
   "file_extension": ".py",
   "mimetype": "text/x-python",
   "name": "python",
   "nbconvert_exporter": "python",
   "pygments_lexer": "ipython3",
   "version": "3.5.1"
  }
 },
 "nbformat": 4,
 "nbformat_minor": 0
}
