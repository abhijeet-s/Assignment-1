{
 "cells": [
  {
   "cell_type": "code",
   "execution_count": 5,
   "metadata": {
    "collapsed": false
   },
   "outputs": [],
   "source": [
    "import numpy as np\n",
    "import sklearn\n",
    "from sklearn import datasets\n",
    "import pandas as pd\n",
    "energy=pd.read_csv('SampleFormat.csv') \n",
    "Y= energy.ix[:, ['kWh']].copy()\n",
    "X = energy.ix[: ,['Month','Day','DayOfWeek','Weekday','PeakHour','temp']].copy()\n",
    "from sklearn.cross_validation import train_test_split\n",
    "X_train, X_test, y_train, y_test = train_test_split(X, Y, random_state=0)\n",
    "\n",
    "#Fit a linear regression model\n",
    "from sklearn import linear_model\n",
    "lm=linear_model.LinearRegression()\n",
    "lm.fit (X_train, y_train)\n",
    "lm.coef_\n",
    "train_pred = lm.predict(X_train)\n",
    "test_pred = lm.predict(X_test)\n",
    "from sklearn.metrics import *\n",
    "mae = mean_absolute_error(y_test, test_pred)\n",
    "mse = mean_squared_error(y_test, test_pred)\n",
    "mase = median_absolute_error(y_test, test_pred)\n",
    "account = energy.ix[:, ['Account']].copy()\n",
    "accountNum = account[\"Account\"][0]\n",
    "dftegy = pd.DataFrame([['AccountNumber', accountNum],['MeanAE', lm.intercept_[0]],\n",
    "                       ['MSE', mse],['MedianSE', mase]], \n",
    "                      columns=['features','estimatedCoefficients'])\n",
    "dftegy.to_csv('C:/Users/Abhijeet/Desktop/WT/PerformanceMetrics.csv',index=False)"
   ]
  },
  {
   "cell_type": "code",
   "execution_count": 6,
   "metadata": {
    "collapsed": false
   },
   "outputs": [],
   "source": []
  },
  {
   "cell_type": "code",
   "execution_count": 7,
   "metadata": {
    "collapsed": true
   },
   "outputs": [],
   "source": []
  },
  {
   "cell_type": "code",
   "execution_count": null,
   "metadata": {
    "collapsed": true
   },
   "outputs": [],
   "source": []
  }
 ],
 "metadata": {
  "kernelspec": {
   "display_name": "Python 3",
   "language": "python",
   "name": "python3"
  },
  "language_info": {
   "codemirror_mode": {
    "name": "ipython",
    "version": 3
   },
   "file_extension": ".py",
   "mimetype": "text/x-python",
   "name": "python",
   "nbconvert_exporter": "python",
   "pygments_lexer": "ipython3",
   "version": "3.5.1"
  }
 },
 "nbformat": 4,
 "nbformat_minor": 0
}
